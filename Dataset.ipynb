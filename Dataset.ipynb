{
 "cells": [
  {
   "cell_type": "code",
   "execution_count": 1,
   "metadata": {},
   "outputs": [],
   "source": [
    "import pandas as pd\n",
    "import numpy as np"
   ]
  },
  {
   "cell_type": "code",
   "execution_count": 5,
   "metadata": {},
   "outputs": [],
   "source": [
    "np.random.seed(21)\n",
    "\n",
    "rows = 1000\n",
    "columns = 10\n",
    "\n",
    "X = np.random.randn(rows, columns)\n",
    "\n",
    "t_coff = np.random.randn(columns)\n",
    "t_coff[2:5] = 0\n",
    "\n",
    "noise = np.random.randn(rows) * 0.5\n",
    "y = np.dot(X, t_coff) + noise\n",
    "\n",
    "df = pd.DataFrame(X, columns = [f'feature_{i+1}' for i in range(columns)])\n",
    "df['target'] = y"
   ]
  },
  {
   "cell_type": "code",
   "execution_count": 6,
   "metadata": {},
   "outputs": [
    {
     "data": {
      "text/html": [
       "<div>\n",
       "<style scoped>\n",
       "    .dataframe tbody tr th:only-of-type {\n",
       "        vertical-align: middle;\n",
       "    }\n",
       "\n",
       "    .dataframe tbody tr th {\n",
       "        vertical-align: top;\n",
       "    }\n",
       "\n",
       "    .dataframe thead th {\n",
       "        text-align: right;\n",
       "    }\n",
       "</style>\n",
       "<table border=\"1\" class=\"dataframe\">\n",
       "  <thead>\n",
       "    <tr style=\"text-align: right;\">\n",
       "      <th></th>\n",
       "      <th>feature_1</th>\n",
       "      <th>feature_2</th>\n",
       "      <th>feature_3</th>\n",
       "      <th>feature_4</th>\n",
       "      <th>feature_5</th>\n",
       "      <th>feature_6</th>\n",
       "      <th>feature_7</th>\n",
       "      <th>feature_8</th>\n",
       "      <th>feature_9</th>\n",
       "      <th>feature_10</th>\n",
       "      <th>target</th>\n",
       "    </tr>\n",
       "  </thead>\n",
       "  <tbody>\n",
       "    <tr>\n",
       "      <th>0</th>\n",
       "      <td>-0.051964</td>\n",
       "      <td>-0.111196</td>\n",
       "      <td>1.041797</td>\n",
       "      <td>-1.256739</td>\n",
       "      <td>0.745388</td>\n",
       "      <td>-1.711054</td>\n",
       "      <td>-0.205864</td>\n",
       "      <td>-0.234571</td>\n",
       "      <td>1.128144</td>\n",
       "      <td>-0.012626</td>\n",
       "      <td>-0.011815</td>\n",
       "    </tr>\n",
       "    <tr>\n",
       "      <th>1</th>\n",
       "      <td>-0.613200</td>\n",
       "      <td>1.373688</td>\n",
       "      <td>1.610992</td>\n",
       "      <td>-0.689228</td>\n",
       "      <td>0.691924</td>\n",
       "      <td>-0.448116</td>\n",
       "      <td>0.162342</td>\n",
       "      <td>0.257229</td>\n",
       "      <td>-1.275456</td>\n",
       "      <td>0.064004</td>\n",
       "      <td>-2.478918</td>\n",
       "    </tr>\n",
       "    <tr>\n",
       "      <th>2</th>\n",
       "      <td>-1.061857</td>\n",
       "      <td>-0.989368</td>\n",
       "      <td>-0.457723</td>\n",
       "      <td>-1.984182</td>\n",
       "      <td>-1.476442</td>\n",
       "      <td>0.231803</td>\n",
       "      <td>0.644159</td>\n",
       "      <td>0.852123</td>\n",
       "      <td>-0.464019</td>\n",
       "      <td>0.697177</td>\n",
       "      <td>-0.623250</td>\n",
       "    </tr>\n",
       "    <tr>\n",
       "      <th>3</th>\n",
       "      <td>1.567882</td>\n",
       "      <td>1.178556</td>\n",
       "      <td>-1.383957</td>\n",
       "      <td>-1.747334</td>\n",
       "      <td>0.402724</td>\n",
       "      <td>1.244483</td>\n",
       "      <td>-0.023836</td>\n",
       "      <td>0.952568</td>\n",
       "      <td>0.244964</td>\n",
       "      <td>0.224097</td>\n",
       "      <td>-1.209499</td>\n",
       "    </tr>\n",
       "    <tr>\n",
       "      <th>4</th>\n",
       "      <td>0.296681</td>\n",
       "      <td>0.220753</td>\n",
       "      <td>-0.423301</td>\n",
       "      <td>1.845615</td>\n",
       "      <td>0.920115</td>\n",
       "      <td>-0.557916</td>\n",
       "      <td>-0.285225</td>\n",
       "      <td>-1.041267</td>\n",
       "      <td>0.480369</td>\n",
       "      <td>-1.427378</td>\n",
       "      <td>1.595052</td>\n",
       "    </tr>\n",
       "  </tbody>\n",
       "</table>\n",
       "</div>"
      ],
      "text/plain": [
       "   feature_1  feature_2  feature_3  feature_4  feature_5  feature_6  \\\n",
       "0  -0.051964  -0.111196   1.041797  -1.256739   0.745388  -1.711054   \n",
       "1  -0.613200   1.373688   1.610992  -0.689228   0.691924  -0.448116   \n",
       "2  -1.061857  -0.989368  -0.457723  -1.984182  -1.476442   0.231803   \n",
       "3   1.567882   1.178556  -1.383957  -1.747334   0.402724   1.244483   \n",
       "4   0.296681   0.220753  -0.423301   1.845615   0.920115  -0.557916   \n",
       "\n",
       "   feature_7  feature_8  feature_9  feature_10    target  \n",
       "0  -0.205864  -0.234571   1.128144   -0.012626 -0.011815  \n",
       "1   0.162342   0.257229  -1.275456    0.064004 -2.478918  \n",
       "2   0.644159   0.852123  -0.464019    0.697177 -0.623250  \n",
       "3  -0.023836   0.952568   0.244964    0.224097 -1.209499  \n",
       "4  -0.285225  -1.041267   0.480369   -1.427378  1.595052  "
      ]
     },
     "execution_count": 6,
     "metadata": {},
     "output_type": "execute_result"
    }
   ],
   "source": [
    "df.head()"
   ]
  },
  {
   "cell_type": "code",
   "execution_count": 7,
   "metadata": {},
   "outputs": [
    {
     "data": {
      "text/plain": [
       "array([[<AxesSubplot: title={'center': 'feature_1'}>,\n",
       "        <AxesSubplot: title={'center': 'feature_2'}>,\n",
       "        <AxesSubplot: title={'center': 'feature_3'}>],\n",
       "       [<AxesSubplot: title={'center': 'feature_4'}>,\n",
       "        <AxesSubplot: title={'center': 'feature_5'}>,\n",
       "        <AxesSubplot: title={'center': 'feature_6'}>],\n",
       "       [<AxesSubplot: title={'center': 'feature_7'}>,\n",
       "        <AxesSubplot: title={'center': 'feature_8'}>,\n",
       "        <AxesSubplot: title={'center': 'feature_9'}>],\n",
       "       [<AxesSubplot: title={'center': 'feature_10'}>,\n",
       "        <AxesSubplot: title={'center': 'target'}>, <AxesSubplot: >]],\n",
       "      dtype=object)"
      ]
     },
     "execution_count": 7,
     "metadata": {},
     "output_type": "execute_result"
    },
    {
     "data": {
      "image/png": "[encoded data removed]",
      "text/plain": [
       "<Figure size 640x480 with 12 Axes>"
      ]
     },
     "metadata": {},
     "output_type": "display_data"
    }
   ],
   "source": [
    "import matplotlib.pyplot as plt\n",
    "df.hist(        )\n"
   ]
  },
  {
   "cell_type": "code",
   "execution_count": null,
   "metadata": {},
   "outputs": [],
   "source": []
  }
 ],
 "metadata": {
  "kernelspec": {
   "display_name": "Python 3",
   "language": "python",
   "name": "python3"
  },
  "language_info": {
   "codemirror_mode": {
    "name": "ipython",
    "version": 3
   },
   "file_extension": ".py",
   "mimetype": "text/x-python",
   "name": "python",
   "nbconvert_exporter": "python",
   "pygments_lexer": "ipython3",
   "version": "3.11.0"
  }
 },
 "nbformat": 4,
 "nbformat_minor": 2
}
